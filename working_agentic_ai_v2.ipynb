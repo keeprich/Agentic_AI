{
  "nbformat": 4,
  "nbformat_minor": 0,
  "metadata": {
    "colab": {
      "provenance": [],
      "authorship_tag": "ABX9TyMEuJ/16e+oQkBW5Bea/yf/"
    },
    "kernelspec": {
      "name": "python3",
      "display_name": "Python 3"
    },
    "language_info": {
      "name": "python"
    }
  },
  "cells": [
    {
      "cell_type": "code",
      "execution_count": null,
      "metadata": {
        "colab": {
          "base_uri": "https://localhost:8080/"
        },
        "id": "yxiiyh4oLNDq",
        "outputId": "aa17282c-cf81-4b7f-dbdc-ac1e9daadf49"
      },
      "outputs": [
        {
          "output_type": "stream",
          "name": "stdout",
          "text": [
            "\u001b[2K   \u001b[90m━━━━━━━━━━━━━━━━━━━━━━━━━━━━━━━━━━━━━━━━\u001b[0m \u001b[32m139.9/139.9 kB\u001b[0m \u001b[31m2.5 MB/s\u001b[0m eta \u001b[36m0:00:00\u001b[0m\n",
            "\u001b[2K   \u001b[90m━━━━━━━━━━━━━━━━━━━━━━━━━━━━━━━━━━━━━━━━\u001b[0m \u001b[32m13.8/13.8 MB\u001b[0m \u001b[31m111.6 MB/s\u001b[0m eta \u001b[36m0:00:00\u001b[0m\n",
            "\u001b[2K   \u001b[90m━━━━━━━━━━━━━━━━━━━━━━━━━━━━━━━━━━━━━━━━\u001b[0m \u001b[32m85.2/85.2 kB\u001b[0m \u001b[31m5.6 MB/s\u001b[0m eta \u001b[36m0:00:00\u001b[0m\n",
            "\u001b[?25hTerraform v1.8.0\n",
            "on linux_amd64\n",
            "\n",
            "Your version of Terraform is out of date! The latest version\n",
            "is 1.12.2. You can update by downloading from https://www.terraform.io/downloads.html\n"
          ]
        }
      ],
      "source": [
        "!pip install huggingface_hub boto3 -q\n",
        "\n",
        "!wget -qO- https://releases.hashicorp.com/terraform/1.8.0/terraform_1.8.0_linux_amd64.zip > terraform.zip\n",
        "!unzip -q terraform.zip\n",
        "!mv terraform /usr/local/bin/\n",
        "!terraform -version\n"
      ]
    },
    {
      "cell_type": "code",
      "source": [
        "import os\n",
        "import subprocess\n",
        "import boto3\n",
        "import uuid\n",
        "from huggingface_hub import InferenceClient, login\n",
        "\n",
        "# 🔐 Add your credentials\n",
        "# AWS_ACCESS_KEY_ID = \"your-access-key\"\n",
        "# AWS_SECRET_ACCESS_KEY = \"your-secret-key\"\n",
        "\n",
        "\n",
        "\n",
        "AWS_REGION = \"us-east-1\"\n",
        "\n",
        "\n",
        "\n",
        "# Hugging Face login\n",
        "login(token=HF_TOKEN)\n",
        "\n",
        "# Hugging Face client2\n",
        "client = InferenceClient(model=\"mistralai/Mistral-7B-Instruct-v0.\", token=HF_TOKEN)\n",
        "\n",
        "# Set AWS credentials for Terraform\n",
        "os.environ[\"AWS_ACCESS_KEY_ID\"] = AWS_ACCESS_KEY_ID\n",
        "os.environ[\"AWS_SECRET_ACCESS_KEY\"] = AWS_SECRET_ACCESS_KEY\n",
        "\n",
        "# Boto3 EC2 client\n",
        "ec2 = boto3.client(\"ec2\", region_name=AWS_REGION,\n",
        "                   aws_access_key_id=AWS_ACCESS_KEY_ID,\n",
        "                   aws_secret_access_key=AWS_SECRET_ACCESS_KEY)\n",
        "\n",
        "# Working directory\n",
        "os.makedirs(\"/content/terraform\", exist_ok=True)\n",
        "%cd /content/terraform\n"
      ],
      "metadata": {
        "colab": {
          "base_uri": "https://localhost:8080/"
        },
        "id": "6SjK0q_vLax1",
        "outputId": "33553415-a5d1-44d5-f453-bbbe05dc1bc1"
      },
      "execution_count": null,
      "outputs": [
        {
          "output_type": "stream",
          "name": "stdout",
          "text": [
            "/content/terraform\n"
          ]
        }
      ]
    },
    {
      "cell_type": "code",
      "source": [
        "def generate_terraform_code(prompt):\n",
        "    system_instruction = (\n",
        "        \"You are a DevOps engineer. Generate only valid Terraform configuration code \"\n",
        "        \"based on this instruction. Respond with Terraform HCL only — no extra text and ensure the AMI is right.\"\n",
        "    )\n",
        "    response = client.chat_completion(\n",
        "        messages=[\n",
        "            {\"role\": \"system\", \"content\": system_instruction},\n",
        "            {\"role\": \"user\", \"content\": prompt}\n",
        "        ],\n",
        "        max_tokens=600,\n",
        "        temperature=0.3\n",
        "    )\n",
        "\n",
        "    code = response.choices[0].message[\"content\"]\n",
        "\n",
        "    # Remove any extra lines like comments or markdown formatting\n",
        "    lines = code.strip().splitlines()\n",
        "    cleaned_lines = [line for line in lines if not line.strip().startswith(\"Replace\") and not line.strip().startswith(\"```\")]\n",
        "    return \"\\n\".join(cleaned_lines).strip()\n"
      ],
      "metadata": {
        "id": "ea26oTe-RAIk"
      },
      "execution_count": null,
      "outputs": []
    },
    {
      "cell_type": "code",
      "source": [
        "def get_default_subnet_id():\n",
        "    subnets = ec2.describe_subnets()\n",
        "    subnet = subnets[\"Subnets\"][0]\n",
        "    return subnet[\"SubnetId\"], subnet[\"VpcId\"]\n",
        "\n",
        "def create_key_pair():\n",
        "    key_name = f\"key-{uuid.uuid4().hex[:8]}\"\n",
        "    key_pair = ec2.create_key_pair(KeyName=key_name)\n",
        "    key_file = f\"{key_name}.pem\"\n",
        "    with open(key_file, \"w\") as f:\n",
        "        f.write(key_pair[\"KeyMaterial\"])\n",
        "    os.chmod(key_file, 0o400)\n",
        "    return key_name, key_file\n",
        "\n",
        "def get_or_create_security_group(vpc_id):\n",
        "    sg_name = \"terraform-agent-sg\"\n",
        "\n",
        "    # Check if SG already exists\n",
        "    existing_sgs = ec2.describe_security_groups(\n",
        "        Filters=[\n",
        "            {\"Name\": \"group-name\", \"Values\": [sg_name]},\n",
        "            {\"Name\": \"vpc-id\", \"Values\": [vpc_id]}\n",
        "        ]\n",
        "    )\n",
        "\n",
        "    if existing_sgs[\"SecurityGroups\"]:\n",
        "        return existing_sgs[\"SecurityGroups\"][0][\"GroupId\"]\n",
        "\n",
        "    # Create a new SG\n",
        "    response = ec2.create_security_group(\n",
        "        GroupName=sg_name,\n",
        "        Description=\"SG for Terraform agent\",\n",
        "        VpcId=vpc_id\n",
        "    )\n",
        "    sg_id = response[\"GroupId\"]\n",
        "\n",
        "    # Allow SSH ingress (port 22)\n",
        "    ec2.authorize_security_group_ingress(\n",
        "        GroupId=sg_id,\n",
        "        IpPermissions=[\n",
        "            {\n",
        "                \"IpProtocol\": \"tcp\",\n",
        "                \"FromPort\": 22,\n",
        "                \"ToPort\": 22,\n",
        "                \"IpRanges\": [{\"CidrIp\": \"0.0.0.0/0\"}]\n",
        "            }\n",
        "        ]\n",
        "    )\n",
        "    return sg_id\n",
        "\n",
        "def replace_all_placeholders(tf_code, key_name, subnet_id, sg_id):\n",
        "    return (\n",
        "        tf_code\n",
        "        .replace(\"your_key_name\", key_name)\n",
        "        .replace(\"your-key-pair-name\", key_name)\n",
        "        .replace(\"your_subnet_id\", subnet_id)\n",
        "        .replace(\"your-subnet-id\", subnet_id)\n",
        "        .replace(\"your-security-group-id\", sg_id)\n",
        "    )\n"
      ],
      "metadata": {
        "id": "_s15PkmZOJ7I"
      },
      "execution_count": null,
      "outputs": []
    },
    {
      "cell_type": "code",
      "source": [
        "def validate_terraform():\n",
        "    print(\"📋 Running terraform validate...\")\n",
        "    result = subprocess.run([\"terraform\", \"validate\"], capture_output=True, text=True)\n",
        "    print(result.stdout)\n",
        "    if result.returncode != 0:\n",
        "        print(\"❌ Terraform validation failed:\")\n",
        "        print(result.stderr)\n",
        "        raise subprocess.CalledProcessError(result.returncode, result.args)\n",
        "\n",
        "\n",
        "\n",
        "\n",
        "\n",
        "def run_terraform():\n",
        "    print(\"🔧 terraform init...\")\n",
        "    init = subprocess.run([\"terraform\", \"init\"], capture_output=True, text=True)\n",
        "    print(init.stdout)\n",
        "    if init.returncode != 0:\n",
        "        print(\"❌ Terraform init failed:\")\n",
        "        print(init.stderr)\n",
        "        return\n",
        "\n",
        "    validate_terraform()\n",
        "\n",
        "    print(\"🚀 terraform apply...\")\n",
        "    apply = subprocess.run([\"terraform\", \"apply\", \"-auto-approve\"], capture_output=True, text=True)\n",
        "    print(apply.stdout)\n",
        "    if apply.returncode != 0:\n",
        "        print(\"❌ Terraform apply failed:\")\n",
        "        print(apply.stderr)\n",
        "        raise subprocess.CalledProcessError(apply.returncode, apply.args, output=apply.stdout, stderr=apply.stderr)\n",
        "\n",
        "\n",
        "def destroy_terraform():\n",
        "    subprocess.run([\"terraform\", \"destroy\", \"-auto-approve\"], check=True)\n",
        "\n",
        "def get_instance_ips():\n",
        "    instances = ec2.describe_instances(Filters=[\n",
        "        {\"Name\": \"instance-state-name\", \"Values\": [\"running\"]}\n",
        "    ])\n",
        "    ips = []\n",
        "    for res in instances[\"Reservations\"]:\n",
        "        for inst in res[\"Instances\"]:\n",
        "            ip = inst.get(\"PublicIpAddress\")\n",
        "            if ip:\n",
        "                ips.append(ip)\n",
        "    return ips\n"
      ],
      "metadata": {
        "id": "hZNqfO75La6E"
      },
      "execution_count": null,
      "outputs": []
    },
    {
      "cell_type": "code",
      "source": [
        "def save_code_to_file(code):\n",
        "    with open(\"main.tf\", \"w\") as f:\n",
        "        f.write(code)"
      ],
      "metadata": {
        "id": "vLb6NuifYraw"
      },
      "execution_count": null,
      "outputs": []
    },
    {
      "cell_type": "code",
      "source": [
        "def run_agent():\n",
        "    while True:\n",
        "        prompt = input(\"\\n📥 What would you like to provision? Type 'destroy' or 'exit':\\n> \")\n",
        "        if prompt.lower() == \"exit\":\n",
        "            break\n",
        "        elif prompt.lower() == \"destroy\":\n",
        "            destroy_terraform()\n",
        "            print(\"🗑️ Infrastructure destroyed.\")\n",
        "        else:\n",
        "            print(\"🧠 Generating Terraform configuration...\")\n",
        "            raw_code = generate_terraform_code(prompt)\n",
        "\n",
        "            print(\"🔍 Creating AWS key pair and resolving network resources...\")\n",
        "            key_name, key_file = create_key_pair()\n",
        "            subnet_id, vpc_id = get_default_subnet_id()\n",
        "            sg_id = get_or_create_security_group(vpc_id)\n",
        "\n",
        "            print(f\"🔐 Key: {key_name} | Subnet: {subnet_id} | SG: {sg_id}\")\n",
        "            final_code = replace_all_placeholders(raw_code, key_name, subnet_id, sg_id)\n",
        "            save_code_to_file(final_code)\n",
        "\n",
        "            print(\"\\nGenerated Terraform Code:\\n\")\n",
        "            print(final_code)\n",
        "\n",
        "            print(\"\\n--- Final Terraform Configuration (main.tf) ---\\n\")\n",
        "            with open(\"main.tf\") as f:\n",
        "             print(f.read())\n",
        "\n",
        "\n",
        "            print(\"⚙️  Running Terraform...\")\n",
        "            run_terraform()\n",
        "\n",
        "            ips = get_instance_ips()\n",
        "            print(\"✅ EC2 Instances created. Public IPs:\")\n",
        "            for ip in ips:\n",
        "                print(f\"🔗 {ip}\")\n",
        "\n",
        "            print(f\"\\n🔑 Your private key is saved as: {key_file} (download before ending session!)\")\n"
      ],
      "metadata": {
        "id": "SF52uiKDOQ6h"
      },
      "execution_count": null,
      "outputs": []
    },
    {
      "cell_type": "code",
      "source": [
        "run_agent()"
      ],
      "metadata": {
        "colab": {
          "base_uri": "https://localhost:8080/"
        },
        "id": "F02N-BBFMb5s",
        "outputId": "b0bdfa70-3758-460f-fa75-6a42099df3c4"
      },
      "execution_count": null,
      "outputs": [
        {
          "output_type": "stream",
          "name": "stdout",
          "text": [
            "\n",
            "📥 What would you like to provision? Type 'destroy' or 'exit':\n",
            "> Create an s3 buket and call it july1420251234 DO NOT ADD ANY COMMENT IN THE FILE and DO nOT RECREATE EC2 and THE DO NOT ADD THE VERSION.\n",
            "🧠 Generating Terraform configuration...\n",
            "🔍 Creating AWS key pair and resolving network resources...\n",
            "🔐 Key: key-ce803e0e | Subnet: subnet-0bc91d699e42a021f | SG: sg-00cd5b7dbb4359ba6\n",
            "\n",
            "Generated Terraform Code:\n",
            "\n",
            "provider \"aws\" {\n",
            " version = \"4.36.0\"\n",
            " region = \"us-west-2\"\n",
            "}\n",
            "\n",
            "resource \"aws_s3_bucket\" \"example\" {\n",
            " name = \"july1420251234\"\n",
            " acl = \"private\"\n",
            "}\n",
            "\n",
            "--- Final Terraform Configuration (main.tf) ---\n",
            "\n",
            "provider \"aws\" {\n",
            " version = \"4.36.0\"\n",
            " region = \"us-west-2\"\n",
            "}\n",
            "\n",
            "resource \"aws_s3_bucket\" \"example\" {\n",
            " name = \"july1420251234\"\n",
            " acl = \"private\"\n",
            "}\n",
            "⚙️  Running Terraform...\n",
            "🔧 terraform init...\n",
            "\n",
            "\u001b[0m\u001b[1mInitializing the backend...\u001b[0m\n",
            "\n",
            "\u001b[0m\u001b[1mInitializing provider plugins...\u001b[0m\n",
            "- Reusing previous version of hashicorp/aws from the dependency lock file\n",
            "\u001b[33m\u001b[33m╷\u001b[0m\u001b[0m\n",
            "\u001b[33m│\u001b[0m \u001b[0m\u001b[1m\u001b[33mWarning: \u001b[0m\u001b[0m\u001b[1mVersion constraints inside provider configuration blocks are deprecated\u001b[0m\n",
            "\u001b[33m│\u001b[0m \u001b[0m\n",
            "\u001b[33m│\u001b[0m \u001b[0m\u001b[0m  on main.tf line 2, in provider \"aws\":\n",
            "\u001b[33m│\u001b[0m \u001b[0m   2:  version = \u001b[4m\"4.36.0\"\u001b[0m\u001b[0m\n",
            "\u001b[33m│\u001b[0m \u001b[0m\n",
            "\u001b[33m│\u001b[0m \u001b[0mTerraform 0.13 and earlier allowed provider version constraints inside the\n",
            "\u001b[33m│\u001b[0m \u001b[0mprovider configuration block, but that is now deprecated and will be\n",
            "\u001b[33m│\u001b[0m \u001b[0mremoved in a future version of Terraform. To silence this warning, move the\n",
            "\u001b[33m│\u001b[0m \u001b[0mprovider version constraint into the required_providers block.\n",
            "\u001b[33m│\u001b[0m \u001b[0m\n",
            "\u001b[33m│\u001b[0m \u001b[0m(and one more similar warning elsewhere)\n",
            "\u001b[33m╵\u001b[0m\u001b[0m\n",
            "\u001b[0m\u001b[0m\n",
            "\n",
            "❌ Terraform init failed:\n",
            "\u001b[31m\u001b[31m╷\u001b[0m\u001b[0m\n",
            "\u001b[31m│\u001b[0m \u001b[0m\u001b[1m\u001b[31mError: \u001b[0m\u001b[0m\u001b[1mFailed to query available provider packages\u001b[0m\n",
            "\u001b[31m│\u001b[0m \u001b[0m\n",
            "\u001b[31m│\u001b[0m \u001b[0m\u001b[0mCould not retrieve the list of available versions for provider\n",
            "\u001b[31m│\u001b[0m \u001b[0mhashicorp/aws: locked provider registry.terraform.io/hashicorp/aws 6.3.0\n",
            "\u001b[31m│\u001b[0m \u001b[0mdoes not match configured version constraint 4.36.0; must use terraform\n",
            "\u001b[31m│\u001b[0m \u001b[0minit -upgrade to allow selection of new versions\n",
            "\u001b[31m╵\u001b[0m\u001b[0m\n",
            "\u001b[0m\u001b[0m\n",
            "\n",
            "✅ EC2 Instances created. Public IPs:\n",
            "🔗 3.86.231.2\n",
            "🔗 3.94.180.76\n",
            "🔗 3.84.16.152\n",
            "🔗 100.26.190.147\n",
            "\n",
            "🔑 Your private key is saved as: key-ce803e0e.pem (download before ending session!)\n"
          ]
        }
      ]
    },
    {
      "cell_type": "code",
      "source": [
        "#  Create four t2.micro EC2 instances with Ubuntu in us-east-1, and ensure the code is valid for terraform to run, DO NOT INCLUDE SECUTITY GROUP AND SUBNET AND DO NOT ADD ANY COMMENT IN THE FILE and no version. use this ami ami-020cba7c55df1f615"
      ],
      "metadata": {
        "id": "UUEj1v3GMb0F"
      },
      "execution_count": null,
      "outputs": []
    },
    {
      "cell_type": "code",
      "source": [
        "Create an s3 buket and call it july1420251234 DO NOT ADD ANY COMMENT IN THE FILE and DO nOT RECREATE EC2 and THE DO NOT ADD THE VERSION."
      ],
      "metadata": {
        "id": "qcAhlDoTIEHV"
      },
      "execution_count": null,
      "outputs": []
    }
  ]
}