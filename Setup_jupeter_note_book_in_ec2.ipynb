{
  "nbformat": 4,
  "nbformat_minor": 0,
  "metadata": {
    "colab": {
      "provenance": [],
      "authorship_tag": "ABX9TyN7tGJG/9+oR/8zA3kHwfV5",
      "include_colab_link": true
    },
    "kernelspec": {
      "name": "python3",
      "display_name": "Python 3"
    },
    "language_info": {
      "name": "python"
    }
  },
  "cells": [
    {
      "cell_type": "markdown",
      "metadata": {
        "id": "view-in-github",
        "colab_type": "text"
      },
      "source": [
        "<a href=\"https://colab.research.google.com/github/keeprich/Agentic_AI/blob/main/Setup_jupeter_note_book_in_ec2.ipynb\" target=\"_parent\"><img src=\"https://colab.research.google.com/assets/colab-badge.svg\" alt=\"Open In Colab\"/></a>"
      ]
    },
    {
      "cell_type": "code",
      "execution_count": null,
      "metadata": {
        "id": "tOravz-XGGTF"
      },
      "outputs": [],
      "source": []
    },
    {
      "cell_type": "markdown",
      "source": [
        "Yes, the instructions you provided will work on an **EC2 instance**, assuming the instance has Python and `pip` installed, and you are operating in a suitable environment (like Ubuntu, Amazon Linux, or any other standard Linux distribution).\n",
        "\n",
        "Here are a few key steps to ensure successful installation and usage on an EC2 instance:\n",
        "\n",
        "---\n",
        "\n",
        "### ✅ **Pre-requisites**\n",
        "\n",
        "1. **Python and pip installed**\n",
        "   You can check with:\n",
        "\n",
        "   ```bash\n",
        "   python3 --version\n",
        "   pip3 --version\n",
        "   ```\n",
        "\n",
        "   If not installed:\n",
        "\n",
        "   ```bash\n",
        "   sudo apt update && sudo apt install python3-pip -y  # For Ubuntu\n",
        "   ```\n",
        "\n",
        "2. **Install JupyterLab or Notebook**\n",
        "\n",
        "   ```bash\n",
        "   pip3 install jupyterlab  # For JupyterLab\n",
        "   # or\n",
        "   pip3 install notebook     # For classic Jupyter Notebook\n",
        "   ```\n",
        "\n",
        "3. **Launch Jupyter**\n",
        "\n",
        "   ```bash\n",
        "   jupyter lab\n",
        "   # or\n",
        "   jupyter notebook\n",
        "   ```\n",
        "\n",
        "---\n",
        "\n",
        "### 🔐 **IMPORTANT – Remote Access Configuration**\n",
        "\n",
        "By default, Jupyter only listens on `localhost`. For remote access from your local browser:\n",
        "\n",
        "1. **Generate a config file** (if not already generated):\n",
        "\n",
        "   ```bash\n",
        "   jupyter notebook --generate-config\n",
        "   ```\n",
        "\n",
        "2. **Edit the config file** (usually at `~/.jupyter/jupyter_notebook_config.py`) and update:\n",
        "\n",
        "   ```python\n",
        "   c.NotebookApp.ip = '0.0.0.0'\n",
        "   c.NotebookApp.port = 8888\n",
        "   c.NotebookApp.open_browser = False\n",
        "   c.NotebookApp.token = ''\n",
        "   ```\n",
        "\n",
        "3. **Open the EC2 Security Group to allow inbound traffic on port 8888** (or your selected port), ideally restricted to your IP.\n",
        "\n",
        "4. **Run Jupyter**:\n",
        "\n",
        "   ```bash\n",
        "   jupyter notebook --no-browser --port=8888\n",
        "   ```\n",
        "\n",
        "5. **Access Jupyter in your browser**:\n",
        "\n",
        "   ```\n",
        "   http://<your-ec2-public-ip>:8888\n",
        "   ```\n",
        "\n",
        "---\n",
        "\n",
        "### 🔒 **Security Note**\n",
        "\n",
        "It is strongly recommended to use **SSH tunneling** or **set a password/token** and enable **HTTPS**, especially if running in a production or publicly exposed environment.\n",
        "\n",
        "Let me know if you would like a secure configuration setup or an example with `tmux` or `systemd` for persistent Jupyter sessions.\n"
      ],
      "metadata": {
        "id": "6U-09jsRGNTj"
      }
    }
  ]
}