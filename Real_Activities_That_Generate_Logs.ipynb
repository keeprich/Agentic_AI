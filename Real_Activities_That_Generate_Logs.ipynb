{
  "nbformat": 4,
  "nbformat_minor": 0,
  "metadata": {
    "colab": {
      "provenance": [],
      "authorship_tag": "ABX9TyOxDsGK+WgKB66rfeDwpDg5",
      "include_colab_link": true
    },
    "kernelspec": {
      "name": "python3",
      "display_name": "Python 3"
    },
    "language_info": {
      "name": "python"
    }
  },
  "cells": [
    {
      "cell_type": "markdown",
      "metadata": {
        "id": "view-in-github",
        "colab_type": "text"
      },
      "source": [
        "<a href=\"https://colab.research.google.com/github/keeprich/Agentic_AI/blob/main/Real_Activities_That_Generate_Logs.ipynb\" target=\"_parent\"><img src=\"https://colab.research.google.com/assets/colab-badge.svg\" alt=\"Open In Colab\"/></a>"
      ]
    },
    {
      "cell_type": "code",
      "execution_count": null,
      "metadata": {
        "id": "jOfAs5nnoK3r"
      },
      "outputs": [],
      "source": [
        "#!/bin/bash\n",
        "\n",
        "# 1. Real sudo login attempts (fail and success)\n",
        "simulate_logins() {\n",
        "  sudo -k\n",
        "  echo \"wrongpassword\" | sudo -S ls 2>/dev/null || echo \"Failed sudo attempt\"\n",
        "\n",
        "  # Successful sudo command - assume passwordless sudo or run as root\n",
        "  sudo ls /root > /dev/null\n",
        "}\n",
        "\n",
        "# 2. Service interaction (restart and status check)\n",
        "service_activity() {\n",
        "  sudo systemctl restart crond.service\n",
        "  sudo systemctl status crond.service | grep Active\n",
        "}\n",
        "\n",
        "# 3. File operations in /tmp\n",
        "file_operations() {\n",
        "  TMPFILE=\"/tmp/poc_file_$(date +%s)\"\n",
        "  touch \"$TMPFILE\"\n",
        "  echo \"Some test data\" >> \"$TMPFILE\"\n",
        "  chmod 644 \"$TMPFILE\"\n",
        "  rm \"$TMPFILE\"\n",
        "}\n",
        "\n",
        "# 4. Network activity: ping and curl\n",
        "network_activity() {\n",
        "  ping -c 3 8.8.8.8 > /dev/null\n",
        "  curl -Is https://www.example.com | head -n 1\n",
        "}\n",
        "\n",
        "# 5. Package management update (non-destructive)\n",
        "package_activity() {\n",
        "  sudo yum check-update -q\n",
        "}\n",
        "\n",
        "# 6. Trigger cron job run (if applicable)\n",
        "cron_activity() {\n",
        "  sudo run-parts /etc/cron.hourly/ 2>/dev/null\n",
        "}\n",
        "\n",
        "while true; do\n",
        "  simulate_logins\n",
        "  sleep 10\n",
        "\n",
        "  service_activity\n",
        "  sleep 10\n",
        "\n",
        "  file_operations\n",
        "  sleep 10\n",
        "\n",
        "  network_activity\n",
        "  sleep 10\n",
        "\n",
        "  package_activity\n",
        "  sleep 10\n",
        "\n",
        "  cron_activity\n",
        "  sleep 30\n",
        "done\n"
      ]
    }
  ]
}